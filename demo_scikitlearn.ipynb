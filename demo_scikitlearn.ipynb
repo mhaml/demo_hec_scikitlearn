{
 "cells": [
  {
   "cell_type": "markdown",
   "metadata": {},
   "source": [
    "# Démontration [Scikit-learn](https://scikit-learn.org/stable/index.html)\n",
    "\n",
    "---\n",
    "\n",
    "## Mise en situation\n",
    "\n",
    "- Données: AdventureWorks 2019 (clients ayant une adressse de facturation aux États-Unis)\n",
    "\n",
    "\n",
    "- Mandat: Détermine quel genre de clientèle fait l'achat d'un vélo. \n",
    "\n",
    "\n",
    "- Problématique: Classification binaire (oui ou non)\n",
    "\n",
    "\n",
    "- Variables explicatives:\n",
    "`'DateFirstPurchase', 'BirthDate', 'MaritalStatus', 'YearlyIncome', 'Gender', 'TotalChildren','NumberChildrenAtHome', 'Education','Occupation', 'HomeOwnerFlag', 'NumberCarsOwned', 'AvgPurchase'`\n",
    "\n",
    "\n",
    "- Modèles statistiques ajustés: Régression logistique, forêt aléatoire et machine à vecteurs de support (support vector machine- SVM)\n",
    "\n",
    "\n",
    "- Entraînement: Utilisation de `sklearn.pipeline()` afin de combiner différentes étapes de la modélisation.\n",
    "\n",
    "\n",
    "- Prétraitement/Preprocessing: Utilisation de `StandardScaler()` sur les variables numériques & Utilisation de `OneHotEncoder()` sur les variables catégoriques.\n",
    "\n",
    "\n",
    "- Trouver les meilleurs hyperparamètres/Model selection: Utilisation de `GridSearchCV()` et comme mesure de performance la *précision*.\n",
    "\n",
    "\n",
    "- Réentraîner les modèles (LR, RF, SVM) sur toute les donnnées avec les meilleurs hyperparamètres et comparer leur performance: Utilisation de `cross_val_score()`\n",
    "\n",
    "\n",
    "- Performance du meilleur modèle\n"
   ]
  },
  {
   "cell_type": "markdown",
   "metadata": {},
   "source": [
    "# Step 1: Importing libraries"
   ]
  },
  {
   "cell_type": "code",
   "execution_count": 1,
   "metadata": {},
   "outputs": [],
   "source": [
    "### Common librairies ###\n",
    "\n",
    "import pandas as pd # data manipulation tool\n",
    "import numpy as np # scientific computing\n",
    "from datetime import datetime # parsing dates\n",
    "from datetime import date # parsing dates\n",
    "import time # Time elapse evaluation\n",
    "import joblib # Saving models\n",
    "import seaborn as sns # making graphs\n",
    "\n",
    "### Building a Pipeline ###\n",
    "\n",
    "# Model Selection\n",
    "from sklearn.pipeline import Pipeline\n",
    "from sklearn.model_selection import train_test_split, GridSearchCV, cross_val_score\n",
    "\n",
    "# Preprocessing\n",
    "from sklearn.compose import ColumnTransformer\n",
    "from sklearn.preprocessing import StandardScaler, OneHotEncoder\n",
    "\n",
    "# Comparing performance\n",
    "from sklearn import metrics\n",
    "\n",
    "\n",
    "### Models for predictive data analysis ###\n",
    "\n",
    "from sklearn.linear_model import LogisticRegression\n",
    "from sklearn.ensemble import RandomForestClassifier\n",
    "from sklearn import svm \n",
    "\n",
    "# Setting seeds\n",
    "np.random.seed(0)"
   ]
  },
  {
   "cell_type": "markdown",
   "metadata": {},
   "source": [
    "# Step 2: Loading data in notebook"
   ]
  },
  {
   "cell_type": "code",
   "execution_count": 2,
   "metadata": {},
   "outputs": [
    {
     "data": {
      "text/html": [
       "<div>\n",
       "<style scoped>\n",
       "    .dataframe tbody tr th:only-of-type {\n",
       "        vertical-align: middle;\n",
       "    }\n",
       "\n",
       "    .dataframe tbody tr th {\n",
       "        vertical-align: top;\n",
       "    }\n",
       "\n",
       "    .dataframe thead th {\n",
       "        text-align: right;\n",
       "    }\n",
       "</style>\n",
       "<table border=\"1\" class=\"dataframe\">\n",
       "  <thead>\n",
       "    <tr style=\"text-align: right;\">\n",
       "      <th></th>\n",
       "      <th>DateFirstPurchase</th>\n",
       "      <th>BirthDate</th>\n",
       "      <th>MaritalStatus</th>\n",
       "      <th>YearlyIncome</th>\n",
       "      <th>Gender</th>\n",
       "      <th>TotalChildren</th>\n",
       "      <th>NumberChildrenAtHome</th>\n",
       "      <th>Education</th>\n",
       "      <th>Occupation</th>\n",
       "      <th>HomeOwnerFlag</th>\n",
       "      <th>NumberCarsOwned</th>\n",
       "      <th>TotalPurchase</th>\n",
       "      <th>y</th>\n",
       "    </tr>\n",
       "  </thead>\n",
       "  <tbody>\n",
       "    <tr>\n",
       "      <th>0</th>\n",
       "      <td>2004-05-27 00:00:00.000</td>\n",
       "      <td>1942-02-18 00:00:00.000</td>\n",
       "      <td>M</td>\n",
       "      <td>greater than 100000</td>\n",
       "      <td>F</td>\n",
       "      <td>2</td>\n",
       "      <td>4</td>\n",
       "      <td>Graduate Degree</td>\n",
       "      <td>Management</td>\n",
       "      <td>0</td>\n",
       "      <td>3</td>\n",
       "      <td>81.26</td>\n",
       "      <td>Non</td>\n",
       "    </tr>\n",
       "    <tr>\n",
       "      <th>1</th>\n",
       "      <td>2003-08-06 00:00:00.000</td>\n",
       "      <td>1942-06-20 00:00:00.000</td>\n",
       "      <td>M</td>\n",
       "      <td>25001-50000</td>\n",
       "      <td>M</td>\n",
       "      <td>1</td>\n",
       "      <td>0</td>\n",
       "      <td>Bachelors</td>\n",
       "      <td>Clerical</td>\n",
       "      <td>1</td>\n",
       "      <td>0</td>\n",
       "      <td>113.96</td>\n",
       "      <td>Non</td>\n",
       "    </tr>\n",
       "    <tr>\n",
       "      <th>2</th>\n",
       "      <td>2003-07-24 00:00:00.000</td>\n",
       "      <td>1977-11-27 00:00:00.000</td>\n",
       "      <td>S</td>\n",
       "      <td>25001-50000</td>\n",
       "      <td>F</td>\n",
       "      <td>0</td>\n",
       "      <td>0</td>\n",
       "      <td>Partial High School</td>\n",
       "      <td>Clerical</td>\n",
       "      <td>0</td>\n",
       "      <td>2</td>\n",
       "      <td>138.45</td>\n",
       "      <td>Non</td>\n",
       "    </tr>\n",
       "    <tr>\n",
       "      <th>3</th>\n",
       "      <td>2003-01-02 00:00:00.000</td>\n",
       "      <td>1972-11-03 00:00:00.000</td>\n",
       "      <td>M</td>\n",
       "      <td>75001-100000</td>\n",
       "      <td>M</td>\n",
       "      <td>0</td>\n",
       "      <td>0</td>\n",
       "      <td>Bachelors</td>\n",
       "      <td>Professional</td>\n",
       "      <td>1</td>\n",
       "      <td>3</td>\n",
       "      <td>2500.97</td>\n",
       "      <td>Oui</td>\n",
       "    </tr>\n",
       "    <tr>\n",
       "      <th>4</th>\n",
       "      <td>2004-06-28 00:00:00.000</td>\n",
       "      <td>1962-09-21 00:00:00.000</td>\n",
       "      <td>M</td>\n",
       "      <td>50001-75000</td>\n",
       "      <td>F</td>\n",
       "      <td>1</td>\n",
       "      <td>0</td>\n",
       "      <td>Partial College</td>\n",
       "      <td>Skilled Manual</td>\n",
       "      <td>1</td>\n",
       "      <td>1</td>\n",
       "      <td>2332.28</td>\n",
       "      <td>Oui</td>\n",
       "    </tr>\n",
       "  </tbody>\n",
       "</table>\n",
       "</div>"
      ],
      "text/plain": [
       "         DateFirstPurchase                BirthDate MaritalStatus  \\\n",
       "0  2004-05-27 00:00:00.000  1942-02-18 00:00:00.000             M   \n",
       "1  2003-08-06 00:00:00.000  1942-06-20 00:00:00.000             M   \n",
       "2  2003-07-24 00:00:00.000  1977-11-27 00:00:00.000             S   \n",
       "3  2003-01-02 00:00:00.000  1972-11-03 00:00:00.000             M   \n",
       "4  2004-06-28 00:00:00.000  1962-09-21 00:00:00.000             M   \n",
       "\n",
       "          YearlyIncome Gender  TotalChildren  NumberChildrenAtHome  \\\n",
       "0  greater than 100000      F              2                     4   \n",
       "1          25001-50000      M              1                     0   \n",
       "2          25001-50000      F              0                     0   \n",
       "3         75001-100000      M              0                     0   \n",
       "4          50001-75000      F              1                     0   \n",
       "\n",
       "             Education      Occupation  HomeOwnerFlag  NumberCarsOwned  \\\n",
       "0      Graduate Degree      Management              0                3   \n",
       "1           Bachelors         Clerical              1                0   \n",
       "2  Partial High School        Clerical              0                2   \n",
       "3           Bachelors     Professional              1                3   \n",
       "4      Partial College  Skilled Manual              1                1   \n",
       "\n",
       "   TotalPurchase    y  \n",
       "0          81.26  Non  \n",
       "1         113.96  Non  \n",
       "2         138.45  Non  \n",
       "3        2500.97  Oui  \n",
       "4        2332.28  Oui  "
      ]
     },
     "execution_count": 2,
     "metadata": {},
     "output_type": "execute_result"
    }
   ],
   "source": [
    "# Importing data\n",
    "data = pd.read_csv('/Users/emiliehamel/OneDrive_HEC/HEC/tech/scikitlearn/data/data.csv', header=None,\n",
    "                   usecols = list(range(2,15)),\n",
    "                  names=['ID', 'TotalPurchaseYTD', 'DateFirstPurchase', 'BirthDate', 'MaritalStatus',\n",
    "                         'YearlyIncome', 'Gender', 'TotalChildren','NumberChildrenAtHome', 'Education',\n",
    "                         'Occupation', 'HomeOwnerFlag', 'NumberCarsOwned', 'TotalPurchase', 'y', 'ID2' ]\n",
    "                  )\n",
    "# Preview data\n",
    "data.head()"
   ]
  },
  {
   "cell_type": "markdown",
   "metadata": {},
   "source": [
    "# Step 3: Data Preparation"
   ]
  },
  {
   "cell_type": "code",
   "execution_count": 3,
   "metadata": {},
   "outputs": [],
   "source": [
    "# Defining function to extract age from birthdate\n",
    "def calculate_age(born):\n",
    "    born = datetime.strptime(born, \"%Y-%m-%d %H:%M:%S.%f\").date()\n",
    "    today = date.today()\n",
    "    return today.year - born.year - ((today.month, today.day) < (born.month, born.day))\n",
    "\n",
    "# Replacing date values with approximation of customer's age\n",
    "data['BirthDate'] = data['BirthDate'].apply(calculate_age)"
   ]
  },
  {
   "cell_type": "code",
   "execution_count": 5,
   "metadata": {},
   "outputs": [],
   "source": [
    "# Defining function to calculate mean spending per year\n",
    "def calculate_avg_spending(date):\n",
    "#     date = datetime.strptime(date, \"%Y-%m-%d %H:%M:%S.%f\").date()\n",
    "    date = datetime.strptime(date, \"%Y-%m-%d %H:%M:%S.%f\").date().year\n",
    "    return date \n",
    "\n",
    " \n",
    "data.DateFirstPurchase = pd.to_numeric(data['DateFirstPurchase'].apply(calculate_avg_spending))\n",
    "data['AvgPurchase'] = data.TotalPurchase / ((max(data.DateFirstPurchase) - data.DateFirstPurchase) + 1)"
   ]
  },
  {
   "cell_type": "code",
   "execution_count": 4,
   "metadata": {},
   "outputs": [],
   "source": [
    "# Formatting ordinal features (numerical columns)\n",
    "\n",
    "# YearlyIncome\n",
    "data.YearlyIncome.replace({'0-25000': 1,\n",
    "                           '25001-50000': 2,\n",
    "                           '50001-75000': 3,\n",
    "                           '75001-100000': 4,\n",
    "                           'greater than 100000': 5},inplace=True)\n",
    "# Education\n",
    "data.Education.replace({'Partial High School': 1,\n",
    "                           'High School': 2,\n",
    "                           'Partial College': 3,\n",
    "                           'Bachelors ': 4,\n",
    "                           'Graduate Degree': 5},inplace=True)\n",
    "# Target\n",
    "data.y.replace({'Oui': 1,'Non': 0,},inplace=True)\n",
    "\n"
   ]
  },
  {
   "cell_type": "code",
   "execution_count": 6,
   "metadata": {},
   "outputs": [
    {
     "data": {
      "text/html": [
       "<div>\n",
       "<style scoped>\n",
       "    .dataframe tbody tr th:only-of-type {\n",
       "        vertical-align: middle;\n",
       "    }\n",
       "\n",
       "    .dataframe tbody tr th {\n",
       "        vertical-align: top;\n",
       "    }\n",
       "\n",
       "    .dataframe thead th {\n",
       "        text-align: right;\n",
       "    }\n",
       "</style>\n",
       "<table border=\"1\" class=\"dataframe\">\n",
       "  <thead>\n",
       "    <tr style=\"text-align: right;\">\n",
       "      <th></th>\n",
       "      <th>DateFirstPurchase</th>\n",
       "      <th>BirthDate</th>\n",
       "      <th>MaritalStatus</th>\n",
       "      <th>YearlyIncome</th>\n",
       "      <th>Gender</th>\n",
       "      <th>TotalChildren</th>\n",
       "      <th>NumberChildrenAtHome</th>\n",
       "      <th>Education</th>\n",
       "      <th>Occupation</th>\n",
       "      <th>HomeOwnerFlag</th>\n",
       "      <th>NumberCarsOwned</th>\n",
       "      <th>TotalPurchase</th>\n",
       "      <th>y</th>\n",
       "      <th>AvgPurchase</th>\n",
       "    </tr>\n",
       "  </thead>\n",
       "  <tbody>\n",
       "    <tr>\n",
       "      <th>0</th>\n",
       "      <td>2004</td>\n",
       "      <td>79</td>\n",
       "      <td>M</td>\n",
       "      <td>5</td>\n",
       "      <td>F</td>\n",
       "      <td>2</td>\n",
       "      <td>4</td>\n",
       "      <td>5</td>\n",
       "      <td>Management</td>\n",
       "      <td>0</td>\n",
       "      <td>3</td>\n",
       "      <td>81.26</td>\n",
       "      <td>0</td>\n",
       "      <td>81.260</td>\n",
       "    </tr>\n",
       "    <tr>\n",
       "      <th>1</th>\n",
       "      <td>2003</td>\n",
       "      <td>78</td>\n",
       "      <td>M</td>\n",
       "      <td>2</td>\n",
       "      <td>M</td>\n",
       "      <td>1</td>\n",
       "      <td>0</td>\n",
       "      <td>4</td>\n",
       "      <td>Clerical</td>\n",
       "      <td>1</td>\n",
       "      <td>0</td>\n",
       "      <td>113.96</td>\n",
       "      <td>0</td>\n",
       "      <td>56.980</td>\n",
       "    </tr>\n",
       "    <tr>\n",
       "      <th>2</th>\n",
       "      <td>2003</td>\n",
       "      <td>43</td>\n",
       "      <td>S</td>\n",
       "      <td>2</td>\n",
       "      <td>F</td>\n",
       "      <td>0</td>\n",
       "      <td>0</td>\n",
       "      <td>1</td>\n",
       "      <td>Clerical</td>\n",
       "      <td>0</td>\n",
       "      <td>2</td>\n",
       "      <td>138.45</td>\n",
       "      <td>0</td>\n",
       "      <td>69.225</td>\n",
       "    </tr>\n",
       "    <tr>\n",
       "      <th>3</th>\n",
       "      <td>2003</td>\n",
       "      <td>48</td>\n",
       "      <td>M</td>\n",
       "      <td>4</td>\n",
       "      <td>M</td>\n",
       "      <td>0</td>\n",
       "      <td>0</td>\n",
       "      <td>4</td>\n",
       "      <td>Professional</td>\n",
       "      <td>1</td>\n",
       "      <td>3</td>\n",
       "      <td>2500.97</td>\n",
       "      <td>1</td>\n",
       "      <td>1250.485</td>\n",
       "    </tr>\n",
       "    <tr>\n",
       "      <th>4</th>\n",
       "      <td>2004</td>\n",
       "      <td>58</td>\n",
       "      <td>M</td>\n",
       "      <td>3</td>\n",
       "      <td>F</td>\n",
       "      <td>1</td>\n",
       "      <td>0</td>\n",
       "      <td>3</td>\n",
       "      <td>Skilled Manual</td>\n",
       "      <td>1</td>\n",
       "      <td>1</td>\n",
       "      <td>2332.28</td>\n",
       "      <td>1</td>\n",
       "      <td>2332.280</td>\n",
       "    </tr>\n",
       "  </tbody>\n",
       "</table>\n",
       "</div>"
      ],
      "text/plain": [
       "   DateFirstPurchase  BirthDate MaritalStatus  YearlyIncome Gender  \\\n",
       "0               2004         79             M             5      F   \n",
       "1               2003         78             M             2      M   \n",
       "2               2003         43             S             2      F   \n",
       "3               2003         48             M             4      M   \n",
       "4               2004         58             M             3      F   \n",
       "\n",
       "   TotalChildren  NumberChildrenAtHome  Education      Occupation  \\\n",
       "0              2                     4          5      Management   \n",
       "1              1                     0          4        Clerical   \n",
       "2              0                     0          1        Clerical   \n",
       "3              0                     0          4    Professional   \n",
       "4              1                     0          3  Skilled Manual   \n",
       "\n",
       "   HomeOwnerFlag  NumberCarsOwned  TotalPurchase  y  AvgPurchase  \n",
       "0              0                3          81.26  0       81.260  \n",
       "1              1                0         113.96  0       56.980  \n",
       "2              0                2         138.45  0       69.225  \n",
       "3              1                3        2500.97  1     1250.485  \n",
       "4              1                1        2332.28  1     2332.280  "
      ]
     },
     "execution_count": 6,
     "metadata": {},
     "output_type": "execute_result"
    }
   ],
   "source": [
    "# Preview data before modelling\n",
    "data.head()"
   ]
  },
  {
   "cell_type": "code",
   "execution_count": 7,
   "metadata": {},
   "outputs": [
    {
     "name": "stdout",
     "output_type": "stream",
     "text": [
      "Our final dataset contains 4214 rows and 14 columns.\n"
     ]
    }
   ],
   "source": [
    "print(f'Our final dataset contains {data.shape[0]} rows and {data.shape[1]} columns.')"
   ]
  },
  {
   "cell_type": "code",
   "execution_count": 8,
   "metadata": {},
   "outputs": [],
   "source": [
    "# Features\n",
    "X = data.iloc[:,[1,2,3,4,5,6,7,8,9,10,13]]\n",
    "\n",
    "# Target \n",
    "y = data['y']"
   ]
  },
  {
   "cell_type": "markdown",
   "metadata": {},
   "source": [
    "# Step 4: Quick descriptive analysis"
   ]
  },
  {
   "cell_type": "code",
   "execution_count": 9,
   "metadata": {},
   "outputs": [
    {
     "data": {
      "text/html": [
       "<div>\n",
       "<style scoped>\n",
       "    .dataframe tbody tr th:only-of-type {\n",
       "        vertical-align: middle;\n",
       "    }\n",
       "\n",
       "    .dataframe tbody tr th {\n",
       "        vertical-align: top;\n",
       "    }\n",
       "\n",
       "    .dataframe thead th {\n",
       "        text-align: right;\n",
       "    }\n",
       "</style>\n",
       "<table border=\"1\" class=\"dataframe\">\n",
       "  <thead>\n",
       "    <tr style=\"text-align: right;\">\n",
       "      <th></th>\n",
       "      <th>BirthDate</th>\n",
       "      <th>YearlyIncome</th>\n",
       "      <th>TotalChildren</th>\n",
       "      <th>NumberChildrenAtHome</th>\n",
       "      <th>Education</th>\n",
       "      <th>HomeOwnerFlag</th>\n",
       "      <th>NumberCarsOwned</th>\n",
       "      <th>AvgPurchase</th>\n",
       "    </tr>\n",
       "  </thead>\n",
       "  <tbody>\n",
       "    <tr>\n",
       "      <th>count</th>\n",
       "      <td>4214.000000</td>\n",
       "      <td>4214.000000</td>\n",
       "      <td>4214.000000</td>\n",
       "      <td>4214.000000</td>\n",
       "      <td>4214.000000</td>\n",
       "      <td>4214.000000</td>\n",
       "      <td>4214.000000</td>\n",
       "      <td>4214.000000</td>\n",
       "    </tr>\n",
       "    <tr>\n",
       "      <th>mean</th>\n",
       "      <td>58.755102</td>\n",
       "      <td>2.724964</td>\n",
       "      <td>1.863787</td>\n",
       "      <td>1.044139</td>\n",
       "      <td>3.303037</td>\n",
       "      <td>0.677029</td>\n",
       "      <td>1.503085</td>\n",
       "      <td>836.833199</td>\n",
       "    </tr>\n",
       "    <tr>\n",
       "      <th>std</th>\n",
       "      <td>11.145364</td>\n",
       "      <td>1.177186</td>\n",
       "      <td>1.626669</td>\n",
       "      <td>1.543559</td>\n",
       "      <td>1.208603</td>\n",
       "      <td>0.467667</td>\n",
       "      <td>1.155741</td>\n",
       "      <td>1274.940876</td>\n",
       "    </tr>\n",
       "    <tr>\n",
       "      <th>min</th>\n",
       "      <td>40.000000</td>\n",
       "      <td>1.000000</td>\n",
       "      <td>0.000000</td>\n",
       "      <td>0.000000</td>\n",
       "      <td>1.000000</td>\n",
       "      <td>0.000000</td>\n",
       "      <td>0.000000</td>\n",
       "      <td>1.247500</td>\n",
       "    </tr>\n",
       "    <tr>\n",
       "      <th>25%</th>\n",
       "      <td>50.000000</td>\n",
       "      <td>2.000000</td>\n",
       "      <td>0.000000</td>\n",
       "      <td>0.000000</td>\n",
       "      <td>2.000000</td>\n",
       "      <td>0.000000</td>\n",
       "      <td>1.000000</td>\n",
       "      <td>30.426667</td>\n",
       "    </tr>\n",
       "    <tr>\n",
       "      <th>50%</th>\n",
       "      <td>57.000000</td>\n",
       "      <td>3.000000</td>\n",
       "      <td>2.000000</td>\n",
       "      <td>0.000000</td>\n",
       "      <td>3.000000</td>\n",
       "      <td>1.000000</td>\n",
       "      <td>2.000000</td>\n",
       "      <td>108.460000</td>\n",
       "    </tr>\n",
       "    <tr>\n",
       "      <th>75%</th>\n",
       "      <td>66.000000</td>\n",
       "      <td>3.000000</td>\n",
       "      <td>3.000000</td>\n",
       "      <td>2.000000</td>\n",
       "      <td>4.000000</td>\n",
       "      <td>1.000000</td>\n",
       "      <td>2.000000</td>\n",
       "      <td>1194.977500</td>\n",
       "    </tr>\n",
       "    <tr>\n",
       "      <th>max</th>\n",
       "      <td>108.000000</td>\n",
       "      <td>5.000000</td>\n",
       "      <td>5.000000</td>\n",
       "      <td>5.000000</td>\n",
       "      <td>5.000000</td>\n",
       "      <td>1.000000</td>\n",
       "      <td>4.000000</td>\n",
       "      <td>6704.080000</td>\n",
       "    </tr>\n",
       "  </tbody>\n",
       "</table>\n",
       "</div>"
      ],
      "text/plain": [
       "         BirthDate  YearlyIncome  TotalChildren  NumberChildrenAtHome  \\\n",
       "count  4214.000000   4214.000000    4214.000000           4214.000000   \n",
       "mean     58.755102      2.724964       1.863787              1.044139   \n",
       "std      11.145364      1.177186       1.626669              1.543559   \n",
       "min      40.000000      1.000000       0.000000              0.000000   \n",
       "25%      50.000000      2.000000       0.000000              0.000000   \n",
       "50%      57.000000      3.000000       2.000000              0.000000   \n",
       "75%      66.000000      3.000000       3.000000              2.000000   \n",
       "max     108.000000      5.000000       5.000000              5.000000   \n",
       "\n",
       "         Education  HomeOwnerFlag  NumberCarsOwned  AvgPurchase  \n",
       "count  4214.000000    4214.000000      4214.000000  4214.000000  \n",
       "mean      3.303037       0.677029         1.503085   836.833199  \n",
       "std       1.208603       0.467667         1.155741  1274.940876  \n",
       "min       1.000000       0.000000         0.000000     1.247500  \n",
       "25%       2.000000       0.000000         1.000000    30.426667  \n",
       "50%       3.000000       1.000000         2.000000   108.460000  \n",
       "75%       4.000000       1.000000         2.000000  1194.977500  \n",
       "max       5.000000       1.000000         4.000000  6704.080000  "
      ]
     },
     "execution_count": 9,
     "metadata": {},
     "output_type": "execute_result"
    }
   ],
   "source": [
    "X.describe()"
   ]
  },
  {
   "cell_type": "markdown",
   "metadata": {},
   "source": [
    "# Step 5: Statistical modelling"
   ]
  },
  {
   "cell_type": "code",
   "execution_count": 10,
   "metadata": {},
   "outputs": [],
   "source": [
    "# Dataset partitioning 90/10\n",
    "X_train, X_test, y_train, y_test = train_test_split(X, y, test_size=0.1, random_state=0)"
   ]
  },
  {
   "cell_type": "markdown",
   "metadata": {},
   "source": [
    "<img src=\"img/pipeline.png\" width=1300 height=1000 />"
   ]
  },
  {
   "cell_type": "code",
   "execution_count": 12,
   "metadata": {},
   "outputs": [],
   "source": [
    "# Pre-processing\n",
    "\n",
    "numeric_features = ['AvgPurchase']\n",
    "\n",
    "numeric_transformer = Pipeline(steps=[\n",
    "    ('scaler', StandardScaler())])\n",
    "\n",
    "\n",
    "categorical_features = ['MaritalStatus', 'Gender', 'Occupation',\n",
    "                       'HomeOwnerFlag']\n",
    "\n",
    "categorical_transformer = OneHotEncoder(handle_unknown='ignore')\n",
    "\n",
    "preprocessor = ColumnTransformer(\n",
    "    transformers=[\n",
    "        ('num', numeric_transformer, numeric_features),\n",
    "        ('cat', categorical_transformer, categorical_features)])"
   ]
  },
  {
   "cell_type": "code",
   "execution_count": 13,
   "metadata": {},
   "outputs": [],
   "source": [
    "# Defining pipeline for models\n",
    "\n",
    "# Logistic regression\n",
    "pipe_lr = Pipeline(steps=[('preprocessor', preprocessor),\n",
    "                      ('clf', LogisticRegression( random_state=42))])\n",
    "\n",
    "\n",
    "# Random forest\n",
    "pipe_rf = Pipeline(steps=[('preprocessor', preprocessor),\n",
    "                          ('clf', RandomForestClassifier(random_state=42))])\n",
    "\n",
    "# SVM\n",
    "pipe_svm = Pipeline(steps=[('preprocessor', preprocessor),\n",
    "                           ('clf', svm.SVC(random_state=42))])"
   ]
  },
  {
   "cell_type": "code",
   "execution_count": 19,
   "metadata": {},
   "outputs": [],
   "source": [
    "# Creating dictionary with candidate learning algorithms and their hyperparameters\n",
    "\n",
    "search_space = [{\"clf\": [LogisticRegression()],\n",
    "                 \"clf__solver\": ['newton-cg', 'lbfgs'],\n",
    "                 \"clf__C\": np.logspace(0, 4, 20)},\n",
    "                \n",
    "                {\"clf\": [RandomForestClassifier()],\n",
    "                 \"clf__n_estimators\": np.linspace(500, 1000, 6, endpoint=True, dtype=int),\n",
    "                \"clf__max_features\": np.linspace(2, 10, 5, endpoint=True, dtype=int)},\n",
    "                \n",
    "                {\"clf\": [svm.SVC()],\n",
    "                 \"clf__kernel\": ['linear'],\n",
    "                \"clf__C\": [1, 10, 100]}]\n"
   ]
  },
  {
   "cell_type": "code",
   "execution_count": 20,
   "metadata": {
    "scrolled": false
   },
   "outputs": [
    {
     "name": "stdout",
     "output_type": "stream",
     "text": [
      "Fitting 3 folds for each of 40 candidates, totalling 120 fits\n"
     ]
    },
    {
     "name": "stderr",
     "output_type": "stream",
     "text": [
      "[Parallel(n_jobs=1)]: Using backend SequentialBackend with 1 concurrent workers.\n",
      "[Parallel(n_jobs=1)]: Done 120 out of 120 | elapsed:    3.6s finished\n",
      "[Parallel(n_jobs=1)]: Using backend SequentialBackend with 1 concurrent workers.\n"
     ]
    },
    {
     "name": "stdout",
     "output_type": "stream",
     "text": [
      "Fitting 3 folds for each of 40 candidates, totalling 120 fits\n"
     ]
    },
    {
     "name": "stderr",
     "output_type": "stream",
     "text": [
      "[Parallel(n_jobs=1)]: Done 120 out of 120 | elapsed:    3.1s finished\n",
      "[Parallel(n_jobs=1)]: Using backend SequentialBackend with 1 concurrent workers.\n"
     ]
    },
    {
     "name": "stdout",
     "output_type": "stream",
     "text": [
      "Fitting 3 folds for each of 40 candidates, totalling 120 fits\n"
     ]
    },
    {
     "name": "stderr",
     "output_type": "stream",
     "text": [
      "[Parallel(n_jobs=1)]: Done 120 out of 120 | elapsed:    3.3s finished\n",
      "[Parallel(n_jobs=1)]: Using backend SequentialBackend with 1 concurrent workers.\n"
     ]
    },
    {
     "name": "stdout",
     "output_type": "stream",
     "text": [
      "Fitting 3 folds for each of 40 candidates, totalling 120 fits\n"
     ]
    },
    {
     "name": "stderr",
     "output_type": "stream",
     "text": [
      "[Parallel(n_jobs=1)]: Done 120 out of 120 | elapsed:    3.1s finished\n",
      "[Parallel(n_jobs=1)]: Using backend SequentialBackend with 1 concurrent workers.\n"
     ]
    },
    {
     "name": "stdout",
     "output_type": "stream",
     "text": [
      "Fitting 3 folds for each of 40 candidates, totalling 120 fits\n"
     ]
    },
    {
     "name": "stderr",
     "output_type": "stream",
     "text": [
      "[Parallel(n_jobs=1)]: Done 120 out of 120 | elapsed:    3.1s finished\n",
      "[Parallel(n_jobs=1)]: Using backend SequentialBackend with 1 concurrent workers.\n"
     ]
    },
    {
     "name": "stdout",
     "output_type": "stream",
     "text": [
      "Fitting 3 folds for each of 40 candidates, totalling 120 fits\n"
     ]
    },
    {
     "name": "stderr",
     "output_type": "stream",
     "text": [
      "[Parallel(n_jobs=1)]: Done 120 out of 120 | elapsed:    3.1s finished\n",
      "[Parallel(n_jobs=1)]: Using backend SequentialBackend with 1 concurrent workers.\n"
     ]
    },
    {
     "name": "stdout",
     "output_type": "stream",
     "text": [
      "Fitting 3 folds for each of 30 candidates, totalling 90 fits\n"
     ]
    },
    {
     "name": "stderr",
     "output_type": "stream",
     "text": [
      "[Parallel(n_jobs=1)]: Done  90 out of  90 | elapsed:  1.8min finished\n"
     ]
    },
    {
     "name": "stdout",
     "output_type": "stream",
     "text": [
      "Fitting 3 folds for each of 30 candidates, totalling 90 fits\n"
     ]
    },
    {
     "name": "stderr",
     "output_type": "stream",
     "text": [
      "[Parallel(n_jobs=1)]: Using backend SequentialBackend with 1 concurrent workers.\n",
      "[Parallel(n_jobs=1)]: Done  90 out of  90 | elapsed:  1.6min finished\n"
     ]
    },
    {
     "name": "stdout",
     "output_type": "stream",
     "text": [
      "Fitting 3 folds for each of 30 candidates, totalling 90 fits\n"
     ]
    },
    {
     "name": "stderr",
     "output_type": "stream",
     "text": [
      "[Parallel(n_jobs=1)]: Using backend SequentialBackend with 1 concurrent workers.\n",
      "[Parallel(n_jobs=1)]: Done  90 out of  90 | elapsed:  1.6min finished\n"
     ]
    },
    {
     "name": "stdout",
     "output_type": "stream",
     "text": [
      "Fitting 3 folds for each of 30 candidates, totalling 90 fits\n"
     ]
    },
    {
     "name": "stderr",
     "output_type": "stream",
     "text": [
      "[Parallel(n_jobs=1)]: Using backend SequentialBackend with 1 concurrent workers.\n",
      "[Parallel(n_jobs=1)]: Done  90 out of  90 | elapsed:  1.6min finished\n"
     ]
    },
    {
     "name": "stdout",
     "output_type": "stream",
     "text": [
      "Fitting 3 folds for each of 30 candidates, totalling 90 fits\n"
     ]
    },
    {
     "name": "stderr",
     "output_type": "stream",
     "text": [
      "[Parallel(n_jobs=1)]: Using backend SequentialBackend with 1 concurrent workers.\n",
      "[Parallel(n_jobs=1)]: Done  90 out of  90 | elapsed:  1.6min finished\n"
     ]
    },
    {
     "name": "stdout",
     "output_type": "stream",
     "text": [
      "Fitting 3 folds for each of 30 candidates, totalling 90 fits\n"
     ]
    },
    {
     "name": "stderr",
     "output_type": "stream",
     "text": [
      "[Parallel(n_jobs=1)]: Using backend SequentialBackend with 1 concurrent workers.\n",
      "[Parallel(n_jobs=1)]: Done  90 out of  90 | elapsed:  1.6min finished\n"
     ]
    },
    {
     "name": "stdout",
     "output_type": "stream",
     "text": [
      "Fitting 3 folds for each of 3 candidates, totalling 9 fits\n"
     ]
    },
    {
     "name": "stderr",
     "output_type": "stream",
     "text": [
      "[Parallel(n_jobs=1)]: Using backend SequentialBackend with 1 concurrent workers.\n",
      "[Parallel(n_jobs=1)]: Done   9 out of   9 | elapsed:    0.3s finished\n",
      "[Parallel(n_jobs=1)]: Using backend SequentialBackend with 1 concurrent workers.\n"
     ]
    },
    {
     "name": "stdout",
     "output_type": "stream",
     "text": [
      "Fitting 3 folds for each of 3 candidates, totalling 9 fits\n"
     ]
    },
    {
     "name": "stderr",
     "output_type": "stream",
     "text": [
      "[Parallel(n_jobs=1)]: Done   9 out of   9 | elapsed:    0.2s finished\n",
      "[Parallel(n_jobs=1)]: Using backend SequentialBackend with 1 concurrent workers.\n"
     ]
    },
    {
     "name": "stdout",
     "output_type": "stream",
     "text": [
      "Fitting 3 folds for each of 3 candidates, totalling 9 fits\n"
     ]
    },
    {
     "name": "stderr",
     "output_type": "stream",
     "text": [
      "[Parallel(n_jobs=1)]: Done   9 out of   9 | elapsed:    0.2s finished\n",
      "[Parallel(n_jobs=1)]: Using backend SequentialBackend with 1 concurrent workers.\n"
     ]
    },
    {
     "name": "stdout",
     "output_type": "stream",
     "text": [
      "Fitting 3 folds for each of 3 candidates, totalling 9 fits\n"
     ]
    },
    {
     "name": "stderr",
     "output_type": "stream",
     "text": [
      "[Parallel(n_jobs=1)]: Done   9 out of   9 | elapsed:    0.2s finished\n",
      "[Parallel(n_jobs=1)]: Using backend SequentialBackend with 1 concurrent workers.\n"
     ]
    },
    {
     "name": "stdout",
     "output_type": "stream",
     "text": [
      "Fitting 3 folds for each of 3 candidates, totalling 9 fits\n"
     ]
    },
    {
     "name": "stderr",
     "output_type": "stream",
     "text": [
      "[Parallel(n_jobs=1)]: Done   9 out of   9 | elapsed:    0.2s finished\n",
      "[Parallel(n_jobs=1)]: Using backend SequentialBackend with 1 concurrent workers.\n"
     ]
    },
    {
     "name": "stdout",
     "output_type": "stream",
     "text": [
      "Fitting 3 folds for each of 3 candidates, totalling 9 fits\n",
      "Training Successful\n",
      "\n",
      "Elapse time: 619.8151390552521\n"
     ]
    },
    {
     "name": "stderr",
     "output_type": "stream",
     "text": [
      "[Parallel(n_jobs=1)]: Done   9 out of   9 | elapsed:    0.2s finished\n"
     ]
    }
   ],
   "source": [
    "# List of pipelines for ease of iteration\n",
    "pipelines = [pipe_lr, pipe_rf, pipe_svm]\n",
    "models_names = ['lr', 'rf', 'svm']\n",
    "best_models = []\n",
    "scores = []\n",
    "\n",
    "# Fit the pipelines\n",
    "start = time.time() #start timer\n",
    "\n",
    "for idx, pipe in enumerate(pipelines):\n",
    "    \n",
    "    # Create grid search to find best parameters\n",
    "    my_clf = GridSearchCV(pipe, search_space[idx], cv=3, refit=True, scoring='accuracy', verbose=1)\n",
    "    \n",
    "    # Fit grid search on whole dataset\n",
    "    my_clf_fitted = my_clf.fit(X_train, y_train)\n",
    "    clf = my_clf_fitted.best_estimator_.set_params()\n",
    "    joblib.dump(clf, f'best_{models_names[idx]}.pkl', compress = 1)\n",
    "    \n",
    "    # Conduct nested cross-validation and output the avg. score of the best model\n",
    "    score = cross_val_score(my_clf, X_train, y_train, scoring=\"accuracy\").mean()\n",
    "    scores.append(score)\n",
    "\n",
    "end = time.time() # end timer\n",
    "print(f'Training Successful\\n\\n'\n",
    "      f'Elapse time: {end - start}')"
   ]
  },
  {
   "cell_type": "markdown",
   "metadata": {},
   "source": [
    "# Step 6: Selecting best model "
   ]
  },
  {
   "cell_type": "code",
   "execution_count": 21,
   "metadata": {},
   "outputs": [
    {
     "data": {
      "text/html": [
       "<div>\n",
       "<style scoped>\n",
       "    .dataframe tbody tr th:only-of-type {\n",
       "        vertical-align: middle;\n",
       "    }\n",
       "\n",
       "    .dataframe tbody tr th {\n",
       "        vertical-align: top;\n",
       "    }\n",
       "\n",
       "    .dataframe thead th {\n",
       "        text-align: right;\n",
       "    }\n",
       "</style>\n",
       "<table border=\"1\" class=\"dataframe\">\n",
       "  <thead>\n",
       "    <tr style=\"text-align: right;\">\n",
       "      <th></th>\n",
       "      <th>model</th>\n",
       "      <th>score</th>\n",
       "    </tr>\n",
       "  </thead>\n",
       "  <tbody>\n",
       "    <tr>\n",
       "      <th>0</th>\n",
       "      <td>lr</td>\n",
       "      <td>0.990769</td>\n",
       "    </tr>\n",
       "    <tr>\n",
       "      <th>1</th>\n",
       "      <td>rf</td>\n",
       "      <td>0.991824</td>\n",
       "    </tr>\n",
       "    <tr>\n",
       "      <th>2</th>\n",
       "      <td>svm</td>\n",
       "      <td>0.992616</td>\n",
       "    </tr>\n",
       "  </tbody>\n",
       "</table>\n",
       "</div>"
      ],
      "text/plain": [
       "  model     score\n",
       "0    lr  0.990769\n",
       "1    rf  0.991824\n",
       "2   svm  0.992616"
      ]
     },
     "execution_count": 21,
     "metadata": {},
     "output_type": "execute_result"
    }
   ],
   "source": [
    "# Create score table and save results into csv\n",
    "score_tbl= pd.DataFrame(zip(models_names,\n",
    "                 np.transpose(scores)),\n",
    "             columns=['model', 'score'])\n",
    "\n",
    "# score_tbl.to_csv(f'score_tbl.csv')\n",
    "score_tbl"
   ]
  },
  {
   "cell_type": "code",
   "execution_count": 1,
   "metadata": {},
   "outputs": [],
   "source": [
    "# Visualize tuned model performance\n",
    "# sns.barplot(models_names, scores)"
   ]
  },
  {
   "cell_type": "markdown",
   "metadata": {},
   "source": [
    "# Step 7: Best model Performance"
   ]
  },
  {
   "cell_type": "code",
   "execution_count": 23,
   "metadata": {},
   "outputs": [
    {
     "name": "stdout",
     "output_type": "stream",
     "text": [
      "Model score on test set: 0.986\n"
     ]
    }
   ],
   "source": [
    "# Loading the model\n",
    "loaded_model = joblib.load(f'best_svm.pkl')\n",
    "print(\"Model score on test set: %.3f\" % loaded_model.score(X_test, y_test))"
   ]
  },
  {
   "cell_type": "code",
   "execution_count": 24,
   "metadata": {},
   "outputs": [
    {
     "data": {
      "text/plain": [
       "<seaborn.axisgrid.FacetGrid at 0x7ff3d70bca90>"
      ]
     },
     "execution_count": 24,
     "metadata": {},
     "output_type": "execute_result"
    },
    {
     "data": {
      "image/png": "[encoded data removed]",
      "text/plain": [
       "<Figure size 360x360 with 1 Axes>"
      ]
     },
     "metadata": {
      "needs_background": "light"
     },
     "output_type": "display_data"
    }
   ],
   "source": [
    "sns.displot(data, x=\"AvgPurchase\")"
   ]
  }
 ],
 "metadata": {
  "kernelspec": {
   "display_name": "Python 3",
   "language": "python",
   "name": "python3"
  },
  "language_info": {
   "codemirror_mode": {
    "name": "ipython",
    "version": 3
   },
   "file_extension": ".py",
   "mimetype": "text/x-python",
   "name": "python",
   "nbconvert_exporter": "python",
   "pygments_lexer": "ipython3",
   "version": "3.8.3"
  }
 },
 "nbformat": 4,
 "nbformat_minor": 4
}
